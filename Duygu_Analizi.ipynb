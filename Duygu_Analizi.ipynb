{
  "nbformat": 4,
  "nbformat_minor": 0,
  "metadata": {
    "colab": {
      "provenance": []
    },
    "kernelspec": {
      "name": "python3",
      "display_name": "Python 3"
    },
    "language_info": {
      "name": "python"
    }
  },
  "cells": [
    {
      "cell_type": "markdown",
      "source": [
        "**IMDB Duygu Analizi**\n",
        "\n",
        "\n",
        "---\n",
        "\n",
        "\n"
      ],
      "metadata": {
        "id": "SdCY_fXgXDW4"
      }
    },
    {
      "cell_type": "markdown",
      "source": [
        "Bu projede, IMDB veri seti kullanarak film yorumlarında duygu analizini gerçekleştireceğiz. Duygu analizi, bir metnin ifade ettiği duygu veya düşünceyi anlamamızı sağlayan bir NLP (Doğal Dil İşleme) tekniği. Yani burada, insanların film incelemelerinde dile getirdikleri duyguları inceleyip, bunların olumlu mu yoksa olumsuz mu olduğunu sınıflandıracağız. Bu sayede, izleyicilerin film hakkındaki görüşlerini ve genel olarak nasıl hissettiklerini daha iyi anlayabileceğiz.\n"
      ],
      "metadata": {
        "id": "DSSNHbi8XSxE"
      }
    },
    {
      "cell_type": "code",
      "execution_count": 2,
      "metadata": {
        "id": "DP9KTHKkLYiz"
      },
      "outputs": [],
      "source": [
        "import pandas as pd\n",
        "import numpy as np\n",
        "import seaborn as sns\n",
        "import matplotlib.pyplot as plt\n",
        "%matplotlib inline\n"
      ]
    },
    {
      "cell_type": "code",
      "source": [
        "import warnings\n",
        "warnings.filterwarnings('ignore')"
      ],
      "metadata": {
        "id": "Pv5lyKy7MEmI"
      },
      "execution_count": 3,
      "outputs": []
    },
    {
      "cell_type": "code",
      "source": [
        "from tensorflow.keras.datasets import imdb"
      ],
      "metadata": {
        "id": "eDlw2FYUMceX"
      },
      "execution_count": 4,
      "outputs": []
    },
    {
      "cell_type": "markdown",
      "source": [
        "# Veri Setini Bölme\n"
      ],
      "metadata": {
        "id": "J_ULSnj0X9Pb"
      }
    },
    {
      "cell_type": "code",
      "source": [
        "(x_train , y_train), (x_test, y_test) = imdb.load_data(num_words = 10000)"
      ],
      "metadata": {
        "id": "3L3NRRv1MUQn"
      },
      "execution_count": 5,
      "outputs": []
    },
    {
      "cell_type": "code",
      "source": [
        "x_train.shape, y_train.shape, x_test.shape , y_test.shape"
      ],
      "metadata": {
        "colab": {
          "base_uri": "https://localhost:8080/"
        },
        "id": "emCbYumFOJDm",
        "outputId": "4558a22e-81a5-4251-8f7c-3e5af6724e98"
      },
      "execution_count": 6,
      "outputs": [
        {
          "output_type": "execute_result",
          "data": {
            "text/plain": [
              "((25000,), (25000,), (25000,), (25000,))"
            ]
          },
          "metadata": {},
          "execution_count": 6
        }
      ]
    },
    {
      "cell_type": "code",
      "source": [
        "class_names = ['Negative', ' Positive']"
      ],
      "metadata": {
        "id": "PzS6L3GgOi41"
      },
      "execution_count": 7,
      "outputs": []
    },
    {
      "cell_type": "code",
      "source": [
        "word_index = imdb.get_word_index()"
      ],
      "metadata": {
        "id": "HN3TKocWOp_c"
      },
      "execution_count": 8,
      "outputs": []
    },
    {
      "cell_type": "markdown",
      "source": [
        "# Çözümleme"
      ],
      "metadata": {
        "id": "N9yZo_aGYREV"
      }
    },
    {
      "cell_type": "code",
      "source": [
        "reverse_word_index = dict((value, key) for key, value in word_index.items())\n",
        "\n",
        "def decode(review):\n",
        "    text = ''\n",
        "    for i in review:\n",
        "        text += reverse_word_index[i]\n",
        "        text += ' '\n",
        "    return text"
      ],
      "metadata": {
        "id": "vJCDwatGOtq0"
      },
      "execution_count": 9,
      "outputs": []
    },
    {
      "cell_type": "code",
      "source": [
        "def show_lengths():\n",
        "    print('Length of 1st training example: ', len(x_train[0]))\n",
        "    print('Length of 2nd training example: ',  len(x_train[1]))\n",
        "    print('Length of 1st test example: ', len(x_test[0]))\n",
        "    print('Length of 2nd test example: ',  len(x_test[1]))\n",
        "\n",
        "show_lengths()"
      ],
      "metadata": {
        "colab": {
          "base_uri": "https://localhost:8080/"
        },
        "id": "_9C4dVG7PT8z",
        "outputId": "e2a976ef-aa09-41a3-ba62-a6016881a3ce"
      },
      "execution_count": 10,
      "outputs": [
        {
          "output_type": "stream",
          "name": "stdout",
          "text": [
            "Length of 1st training example:  218\n",
            "Length of 2nd training example:  189\n",
            "Length of 1st test example:  68\n",
            "Length of 2nd test example:  260\n"
          ]
        }
      ]
    },
    {
      "cell_type": "markdown",
      "source": [
        "# Padding"
      ],
      "metadata": {
        "id": "WQlhATmZYhvG"
      }
    },
    {
      "cell_type": "code",
      "source": [
        "from tensorflow.keras.preprocessing.sequence import pad_sequences\n",
        "\n",
        "x_train = pad_sequences(x_train, value = word_index['the'], padding = 'post', maxlen = 256)\n",
        "x_train = pad_sequences(x_test, value = word_index['the'], padding = 'post', maxlen = 256)"
      ],
      "metadata": {
        "id": "3o9UpNGjPdms"
      },
      "execution_count": 11,
      "outputs": []
    },
    {
      "cell_type": "markdown",
      "source": [
        "# Model Oluşturma"
      ],
      "metadata": {
        "id": "K0JsoW6lYucE"
      }
    },
    {
      "cell_type": "code",
      "source": [
        "from tensorflow.python.keras.models import Sequential\n",
        "from tensorflow.python.keras.layers import Embedding, Dense, GlobalAveragePooling1D"
      ],
      "metadata": {
        "id": "NHyY2lOYQFQC"
      },
      "execution_count": 12,
      "outputs": []
    },
    {
      "cell_type": "code",
      "source": [
        "model = Sequential([\n",
        "    Embedding(10000, 16),\n",
        "    GlobalAveragePooling1D(),\n",
        "    Dense(16, activation = 'relu'),\n",
        "    Dense(1, activation = 'sigmoid')\n",
        "])"
      ],
      "metadata": {
        "id": "dPJ-jwGkQFSm"
      },
      "execution_count": 17,
      "outputs": []
    },
    {
      "cell_type": "code",
      "source": [
        "model.compile(\n",
        "    optimizer = 'adam',\n",
        "    loss = 'binary_crossentropy',\n",
        "    metrics = ['accuracy']\n",
        ")"
      ],
      "metadata": {
        "id": "NfQaVdXBQFVC"
      },
      "execution_count": 18,
      "outputs": []
    },
    {
      "cell_type": "code",
      "source": [
        "model.summary()"
      ],
      "metadata": {
        "colab": {
          "base_uri": "https://localhost:8080/"
        },
        "id": "AvJKjHDxQFXi",
        "outputId": "7041b84e-9b0a-4a06-b851-65126a6e8cf2"
      },
      "execution_count": 19,
      "outputs": [
        {
          "output_type": "stream",
          "name": "stdout",
          "text": [
            "Model: \"sequential_1\"\n",
            "_________________________________________________________________\n",
            "Layer (type)                 Output Shape              Param #   \n",
            "=================================================================\n",
            "embedding_1 (Embedding)      (None, None, 16)          160000    \n",
            "_________________________________________________________________\n",
            "global_average_pooling1d_1 ( (None, 16)                0         \n",
            "_________________________________________________________________\n",
            "dense_2 (Dense)              (None, 16)                272       \n",
            "_________________________________________________________________\n",
            "dense_3 (Dense)              (None, 1)                 17        \n",
            "=================================================================\n",
            "Total params: 160,289\n",
            "Trainable params: 160,289\n",
            "Non-trainable params: 0\n",
            "_________________________________________________________________\n"
          ]
        }
      ]
    },
    {
      "cell_type": "markdown",
      "source": [
        "# Eğitim Modeli"
      ],
      "metadata": {
        "id": "7mx3RAl5Y7AL"
      }
    },
    {
      "cell_type": "code",
      "source": [
        "\n",
        "\n",
        "from tensorflow.keras.callbacks import LambdaCallback\n",
        "\n",
        "simple_logging = LambdaCallback(on_epoch_end=lambda e, l: print(e, end='.'))\n",
        "\n",
        "E = 20\n",
        "h = model.fit(\n",
        "    x_train, y_train,\n",
        "    validation_split=0.2,\n",
        "    epochs=E,\n",
        "    callbacks=[simple_logging],\n",
        "    verbose=0  # verbose=False yerine 0 kullanıyoruz.\n",
        ")\n"
      ],
      "metadata": {
        "colab": {
          "base_uri": "https://localhost:8080/"
        },
        "id": "U-Z-HcA8QFaK",
        "outputId": "aed0b761-3476-4e42-adf9-4bbd54d5adb9"
      },
      "execution_count": 20,
      "outputs": [
        {
          "output_type": "stream",
          "name": "stdout",
          "text": [
            "0.1.2.3.4.5.6.7.8.9.10.11.12.13.14.15.16.17.18.19."
          ]
        }
      ]
    },
    {
      "cell_type": "code",
      "source": [
        "plt.plot(range(E), h.history['accuracy'], label = 'Training')\n",
        "plt.plot(range(E), h.history['val_accuracy'], label = 'Validation')\n",
        "plt.legend()\n",
        "plt.show()"
      ],
      "metadata": {
        "colab": {
          "base_uri": "https://localhost:8080/",
          "height": 430
        },
        "id": "ml8oN_w-QFch",
        "outputId": "c3d693e4-ce16-4786-df6d-aa3d3f618843"
      },
      "execution_count": 21,
      "outputs": [
        {
          "output_type": "display_data",
          "data": {
            "text/plain": [
              "<Figure size 640x480 with 1 Axes>"
            ],
            "image/png": "[encoded data removed]"
          },
          "metadata": {}
        }
      ]
    },
    {
      "cell_type": "code",
      "source": [
        "plt.plot(range(E), h.history['loss'], label = 'Training')\n",
        "plt.plot(range(E), h.history['val_loss'], label = 'Validation')\n",
        "plt.legend()\n",
        "plt.show()"
      ],
      "metadata": {
        "colab": {
          "base_uri": "https://localhost:8080/",
          "height": 430
        },
        "id": "VtxviqQ2QFep",
        "outputId": "569e9ba6-5c9d-473f-f27b-1b91c4bb5e7a"
      },
      "execution_count": 22,
      "outputs": [
        {
          "output_type": "display_data",
          "data": {
            "text/plain": [
              "<Figure size 640x480 with 1 Axes>"
            ],
            "image/png": "[encoded data removed]"
          },
          "metadata": {}
        }
      ]
    },
    {
      "cell_type": "markdown",
      "source": [
        "# Test Etme"
      ],
      "metadata": {
        "id": "yCehavFsZDb4"
      }
    },
    {
      "cell_type": "code",
      "source": [
        ";#loss, acc = model.evaluate(x_test, y_test)\n",
        "#print('Test set accuracy: ', acc * 100)\n",
        "\n",
        "import numpy as np\n",
        "from tensorflow.keras.preprocessing.sequence import pad_sequences\n",
        "\n",
        "# Test verilerini dönüştürme\n",
        "x_test = pad_sequences(x_test, maxlen=100)\n",
        "x_test = np.array(x_test, dtype='int32')\n",
        "y_test = np.array(y_test, dtype='float32')\n",
        "\n",
        "# Modeli değerlendirme\n",
        "loss, acc = model.evaluate(x_test, y_test)\n",
        "print('Test set accuracy: ', acc * 100)\n",
        "\n"
      ],
      "metadata": {
        "colab": {
          "base_uri": "https://localhost:8080/"
        },
        "id": "dUh6YC0FQFg4",
        "outputId": "ffbceec4-1a25-4734-c189-35e2f7553170"
      },
      "execution_count": 29,
      "outputs": [
        {
          "output_type": "stream",
          "name": "stdout",
          "text": [
            "782/782 [==============================] - 1s 1ms/step - loss: 1.6609 - accuracy: 0.5072\n",
            "Test set accuracy:  50.72000026702881\n"
          ]
        }
      ]
    },
    {
      "cell_type": "code",
      "source": [
        "prediction = model.predict(np.expand_dims(x_test[0], axis = 0))\n",
        "class_names = ['Negative', 'Positive']\n",
        "print(class_names[np.argmax(prediction[0])])"
      ],
      "metadata": {
        "colab": {
          "base_uri": "https://localhost:8080/"
        },
        "id": "XCXUSehHQFrw",
        "outputId": "d85fbad8-fba0-43da-ba9c-ca781aebe887"
      },
      "execution_count": 28,
      "outputs": [
        {
          "output_type": "stream",
          "name": "stdout",
          "text": [
            "Negative\n"
          ]
        }
      ]
    },
    {
      "cell_type": "code",
      "source": [],
      "metadata": {
        "id": "p2v-4g94TSo0"
      },
      "execution_count": null,
      "outputs": []
    }
  ]
}